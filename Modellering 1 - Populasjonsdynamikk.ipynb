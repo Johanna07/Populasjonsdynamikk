{
 "cells": [
  {
   "cell_type": "markdown",
   "metadata": {},
   "source": [
    "# Modellering av populasjoner\n",
    "\n",
    "Vi skal nå se på modellering av populasjoner med utgangspunkt i tre modeller som er basert på differensiallikninger. Disse skal vi så løse med Eulers metode. Følgende mål er viktige for å forstå modelleringsprosessen:\n",
    "\n",
    "- Drøfte modellens styrker og begrensninger.\n",
    "- Forstå og drøfte koeffisientenes betydning i en modell.\n",
    "- Forstå, utlede og bruke Eulers metode.\n",
    "- Tolke resultatene en får med Eulers metode.\n",
    "\n",
    "Dette skal vi øve oss på, slik at det avsluttende modelleringsprosjektet deres blir så godt som mulig!\n",
    "\n",
    "Vi skal utforske tre modeller for populasjonsdynamikk her. De tar utgangspunkt i følgende kriterier:\n",
    "\n",
    "1. Uendelig ressurser.\n",
    "2. Endelige ressurser: Bæreevne.\n",
    "3. Rovdyr-bytte-forhold.\n",
    "\n",
    "## Modell 1: Ubegrensa vekst\n",
    "\n",
    "<img src=\"https://i.ytimg.com/vi/k7PXL-khy4c/maxresdefault.jpg\",width=500,height=500>\n",
    "\n",
    "Vi slipper ut 100 kaniner på øde øy. Noen elever drar til øya og registrerer hvordan kaninene formerer seg. Ved å ta omfattende målinger hver måned, finner de ut at populasjoner av kaniner øker med 5 % i måneden.\n",
    "\n",
    "1. Forklar hvorfor vi kan bruke modellen $K'(t) = k\\cdot K(t)$, der $k = 0.10$.\n",
    "2. Hvilken initalbetingelse har vi?\n",
    "3. Løs difflikninga ovenfor med Eulers metode. Tegn grafen til _K_.\n",
    "4. Beskriv utviklinga med ord.\n",
    "5. Hva skjer hvis vi begynner med 2, 5 eller 200 kaniner? Hvordan forandrer kurven seg.\n",
    "6. Hva betyr egentlig $k$? Hva slags verdi av $k$ vil være realistisk (søk på internett).\n",
    "7. Hva skjer hvis populasjonen øker med 10 % isteden? Hva med 50 %?\n",
    "8. Forandrer noe seg hvis vi angir tida i år istedenfor måneder? Hva med $k$?\n",
    "9. Kunne du funnet et funksjonsuttrykk for _K_? Bruk grafen som hint."
   ]
  },
  {
   "cell_type": "markdown",
   "metadata": {},
   "source": [
    "## 1 og 2"
   ]
  },
  {
   "cell_type": "markdown",
   "metadata": {},
   "source": [
    "1) Økning i antall (den deriverte) er koeffisienten (i dette tilfellet prosenten populasjonen øker med i tidssteget (måneden)) ganget med hvor mange kaniner det er i populasjonen i den tiden (t)."
   ]
  },
  {
   "cell_type": "markdown",
   "metadata": {},
   "source": [
    "2) Vi vet at det er 100 kaniner på øyen altså K(0)=100"
   ]
  },
  {
   "cell_type": "markdown",
   "metadata": {},
   "source": [
    "## 3"
   ]
  },
  {
   "cell_type": "code",
   "execution_count": 17,
   "metadata": {},
   "outputs": [
    {
     "data": {
      "image/png": "[encoded data removed]",
      "text/plain": [
       "<Figure size 432x288 with 1 Axes>"
      ]
     },
     "metadata": {},
     "output_type": "display_data"
    }
   ],
   "source": [
    "from pylab import*\n",
    "#Eulers metode\n",
    "N = 100\n",
    "h = 1\n",
    "k = 0.05\n",
    "antall_kaniner = []\n",
    "antall_kaniner.append(100)\n",
    "\n",
    "antall_måneder = []\n",
    "antall_måneder.append(0)\n",
    "\n",
    "for i in range(N-1):\n",
    "    antall_kaniner.append(antall_kaniner[i]+(k*antall_kaniner[i])*h)\n",
    "    antall_måneder.append(i+1)\n",
    "    \n",
    "title('kaninpopulasjon')\n",
    "ylabel('antall kaniner')\n",
    "xlabel('Måneder')\n",
    "plot(antall_måneder,antall_kaniner)\n",
    "show()\n",
    "\n",
    "\n",
    "\n",
    "\n",
    "    \n",
    "\n"
   ]
  },
  {
   "cell_type": "markdown",
   "metadata": {},
   "source": [
    "## 4-9"
   ]
  },
  {
   "cell_type": "markdown",
   "metadata": {},
   "source": [
    "4) Utviklingen er eksponentiell. Man ser det tydelig på grafen hvis man gjør h større (f.eks 1)."
   ]
  },
  {
   "cell_type": "markdown",
   "metadata": {},
   "source": [
    "5) Forskjellen hvis du starter med 2,5 eller 200 kaniner er bare hvor fort de formerer seg. Jo flere de er i starten jo fortere blir det en tydelig eksponentiell vekst."
   ]
  },
  {
   "cell_type": "markdown",
   "metadata": {},
   "source": [
    "6) k er koeffesienten altså hvor fort, i dette tilfellet, kaninene formerer seg i prosent per periode som i dette tilfellet er 1 måned. Jeg klarer ikke å finne noe prosent på hva som er en realistisk økning i prosent per måned for kaniner, men hvis alt ligger til rette kan kaniner reprodusere seg med en mye høyere prosent enn 5 da en kanin kan føde opp mot 10 kaniner i måneden. "
   ]
  },
  {
   "cell_type": "markdown",
   "metadata": {},
   "source": [
    "7) hvis k er 10% så for hver tiende kanin blir det født en til i måneden så hele flokken øker med 10% i måneden. Er den 50% så blir det født 5 kaniner for hver 10 kaniner i måneden. "
   ]
  },
  {
   "cell_type": "markdown",
   "metadata": {},
   "source": [
    "8) grafen vil se identisk ut uansett hva x-aksen er, men i virkeligheten så vil jo det at tiden er gitt i år bety at kaninene reproduser seg vesentlig mye saktere. Du må øke k hvis du vil ha den faktiske samme reproduksjonsraten av kaniner."
   ]
  },
  {
   "cell_type": "markdown",
   "metadata": {},
   "source": [
    "9) Ja, du kan jo bruke vekstfaktor. Det er: antall kaniner i forrige måned*1,05^(tidssteget)"
   ]
  },
  {
   "cell_type": "markdown",
   "metadata": {},
   "source": [
    "## Modell 2: Vekst med bæreevne\n",
    "\n",
    "<img src=\"https://no.vwr.com/no.vwr.com/no_NO/images/segment_microbiology.jpg\",width=500,height=500>\n",
    "\n",
    "Vi har 5000 bakterier i en petriskål med agar. Veksten til bakteriene er poporsjonal med antall bakterier til enhver tid. En biolog finner ut at populasjonen stabiliserer seg etter hvert rundt 50000 bakterier.\n",
    "\n",
    "La $B(t)$ være antall bakterier i beholderen etter $t$ timer.\n",
    "\n",
    "1. Hva kan vi si om $B(0)$?\n",
    "2. Vi kaller bæreevnen $b$. Hva menes med bæreevne? Hvilke biologiske faktorer bestemmer denne?\n",
    "3. Forklar at en gyldig modell kan gis ved: $B′(t) = k \\cdot B(t)\\cdot (1−B(t)/b)$\n",
    "\n",
    "I begynnelsen vokser bakteriebefolkningen med 900 bakterier per time.\n",
    "\n",
    "4. Forklar hvorfor k=0.000004 med regning.\n",
    "5. Løs differensiallikninga med Eulers metode.\n",
    "6. Uforsk modellen ved å varierer $k$ og $b$ systematisk. Hvilke sammenhenger finner du?"
   ]
  },
  {
   "cell_type": "markdown",
   "metadata": {},
   "source": [
    "## 1-4"
   ]
  },
  {
   "cell_type": "markdown",
   "metadata": {},
   "source": [
    "1) Du starter med 5000 bakterier så B(0) = 5000"
   ]
  },
  {
   "cell_type": "markdown",
   "metadata": {},
   "source": [
    "2) Bæreevnen er hvor stort antall av en art som kan bo i et spesifisert område. Faktorer som andre arter i næringskjeden, konkurranse, sykdommer, klima og mat er med på å bestemme denne."
   ]
  },
  {
   "cell_type": "markdown",
   "metadata": {},
   "source": [
    "3) Økningen i antall bakterier er reproduksjonsraten ganget med antall bakterier ganget med hvor stor prosentandel som faktisk overlever. Når antall bakterier i petriskålen er lik bæreevnen blir B(t)/b = 1 og da blir (1-B(t)/b) = 0 altså ingen av avkommene vil overleve og kolonien vil begynne å minke."
   ]
  },
  {
   "cell_type": "markdown",
   "metadata": {},
   "source": [
    "4) Jeg får at k=0.2.... "
   ]
  },
  {
   "cell_type": "markdown",
   "metadata": {},
   "source": [
    "## 5"
   ]
  },
  {
   "cell_type": "code",
   "execution_count": 47,
   "metadata": {},
   "outputs": [
    {
     "data": {
      "image/png": "[encoded data removed]",
      "text/plain": [
       "<Figure size 432x288 with 1 Axes>"
      ]
     },
     "metadata": {},
     "output_type": "display_data"
    }
   ],
   "source": [
    "#Eulers metode\n",
    "N = 50\n",
    "h = 1\n",
    "k = 0.2\n",
    "b = 50000 #Bæreevne\n",
    "antall_b = [] #tom liste med antall bakterier\n",
    "antall_b.append(5000)\n",
    "\n",
    "t = [] #tom liste med antall timer\n",
    "t.append(0)\n",
    "\n",
    "for i in range(N-1):\n",
    "    antall_b.append(antall_b[i]+k*antall_b[i]*(1-(antall_b[i]/b))*h)\n",
    "    t.append(i+1)\n",
    "    \n",
    "title('Bakterier etter t antall timer ')\n",
    "ylabel('antall bakterier')\n",
    "xlabel('timer')\n",
    "plot(t,antall_b)\n",
    "show()\n",
    "\n",
    "\n",
    "\n"
   ]
  },
  {
   "cell_type": "markdown",
   "metadata": {},
   "source": [
    "## Modell 3: Rovdyr-byttedyr\n",
    "\n",
    "<img src=\"https://i.ytimg.com/vi/zNO0kxTClYo/maxresdefault.jpg\",width=500,height=500>\n",
    "\n",
    "Vi trenger to differensiallikninger for å modellere både rovdyr og byttedyr. Størrelsen til de ulike populasjonene, vil påvirke hverandre. En modell for dette er gitt med følgende type differensiallikninger (kalt Lotka-Volterra differensiallikningene):\n",
    "\n",
    "La B(t) være antall byttedyr etter t tidsenheter og la R(t) være antall rovdyr etter t tidsenheter.\n",
    "\n",
    "$B'(t) = a\\cdot B(t) - b\\cdot B(t)R(t)$\n",
    "\n",
    "$R'(t) = c\\cdot B(t)R(t) - d \\cdot R(t)$\n",
    "\n",
    "1\\. Hva betyr de ulike leddene i likningene? Hva betyr de ulike koeffisientene?\n",
    "\n",
    "Vi kan starte med 100 seler og 100 isbjørner på en isolert øy. Vi velger A=0.25, B=0.002, C=0.1 og D=0.001.\n",
    "\n",
    "2\\. Bruk Eulers metode og løs likningene. Plott _B(t)_ og _R(t)_ i samme koordinatsystem. Beskriv sammenhengen med ord.\n",
    "\n",
    "3\\. Endre systematisk på antallet rovdyr og byttedyr. Beskriv hva som skjer.\n",
    "\n",
    "4\\. Endre systematisk på koeffisientene. Beskriv hva som skjer."
   ]
  },
  {
   "cell_type": "code",
   "execution_count": null,
   "metadata": {},
   "outputs": [],
   "source": []
  }
 ],
 "metadata": {
  "kernelspec": {
   "display_name": "Python 3",
   "language": "python",
   "name": "python3"
  },
  "language_info": {
   "codemirror_mode": {
    "name": "ipython",
    "version": 3
   },
   "file_extension": ".py",
   "mimetype": "text/x-python",
   "name": "python",
   "nbconvert_exporter": "python",
   "pygments_lexer": "ipython3",
   "version": "3.6.5"
  }
 },
 "nbformat": 4,
 "nbformat_minor": 2
}
